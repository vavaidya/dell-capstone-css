{
 "cells": [
  {
   "cell_type": "code",
   "execution_count": 34,
   "metadata": {},
   "outputs": [],
   "source": [
    "import pandas as pd\n",
    "import numpy as np\n",
    "import matplotlib.pyplot as plt\n",
    "import datetime\n",
    "import missingno as msno\n",
    "import seaborn as sns\n",
    "import datetime as dt\n",
    "from sklearn.model_selection import train_test_split\n",
    "from sklearn.ensemble import RandomForestClassifier\n",
    "from scipy.stats import randint\n",
    "from sklearn.model_selection import RandomizedSearchCV\n",
    "from sklearn.model_selection import GridSearchCV"
   ]
  },
  {
   "cell_type": "code",
   "execution_count": 35,
   "metadata": {},
   "outputs": [],
   "source": [
    "df = pd.read_csv('DataExtract_v3.csv') #read in CSV file provided"
   ]
  },
  {
   "cell_type": "markdown",
   "metadata": {},
   "source": [
    "# MODEL"
   ]
  },
  {
   "cell_type": "markdown",
   "metadata": {},
   "source": [
    "#### Create Y value"
   ]
  },
  {
   "cell_type": "code",
   "execution_count": 36,
   "metadata": {},
   "outputs": [],
   "source": [
    "#Convert to datetime\n",
    "df['AssignedDate']= pd.to_datetime(df['AssignedDate'])\n",
    "df['FirstDeliverableProvidedDate']= pd.to_datetime(df['FirstDeliverableProvidedDate'])"
   ]
  },
  {
   "cell_type": "code",
   "execution_count": 37,
   "metadata": {},
   "outputs": [],
   "source": [
    "#Count business days between dates\n",
    "A = [d.date() for d in df['AssignedDate']]\n",
    "B = [d.date() for d in df['FirstDeliverableProvidedDate']]\n",
    "\n",
    "df['days_for_deal'] = np.busday_count(A, B)"
   ]
  },
  {
   "cell_type": "code",
   "execution_count": 38,
   "metadata": {},
   "outputs": [
    {
     "data": {
      "text/plain": [
       "<matplotlib.axes._subplots.AxesSubplot at 0x18cb613bda0>"
      ]
     },
     "execution_count": 38,
     "metadata": {},
     "output_type": "execute_result"
    },
    {
     "data": {
      "image/png": "[encoded data removed]",
      "text/plain": [
       "<Figure size 432x288 with 1 Axes>"
      ]
     },
     "metadata": {
      "needs_background": "light"
     },
     "output_type": "display_data"
    }
   ],
   "source": [
    "df['deal_complexity'] = np.where(df['days_for_deal'] <= 1, '1. Low',\n",
    "                                 np.where(df['days_for_deal'] <= 7, '2. Medium', '3. High'\n",
    "                                        ))\n",
    "df['deal_complexity'].value_counts().plot(kind='bar')"
   ]
  },
  {
   "cell_type": "code",
   "execution_count": 39,
   "metadata": {},
   "outputs": [],
   "source": [
    "df = df.drop(columns=['MyDealId', 'AssignedDate','IntakeDate', 'FirstDeliverableProvidedDate', 'days_for_deal',\n",
    "                     'RegionValue', 'OwnerID'])"
   ]
  },
  {
   "cell_type": "markdown",
   "metadata": {},
   "source": [
    "#### One Hot Encode and Create Factors"
   ]
  },
  {
   "cell_type": "code",
   "execution_count": 40,
   "metadata": {},
   "outputs": [],
   "source": [
    "# df['OwnerID'] = df['OwnerID'].astype(object)\n",
    "df['TechnologySolutionOwnerBadge'] = df['TechnologySolutionOwnerBadge'].astype(object)\n",
    "df['SMEID'] = df['SMEID'].astype(object)\n",
    "df['CustomerNumber'] = df['CustomerNumber'].astype(object)"
   ]
  },
  {
   "cell_type": "code",
   "execution_count": 41,
   "metadata": {},
   "outputs": [
    {
     "data": {
      "text/plain": [
       "Index(['BookingSystemName', 'Assets', 'IsPrimary', 'OpportunityTypeValue',\n",
       "       'CustomerNumber', 'dealstatusvalue', 'CountryValue',\n",
       "       'TechnologySolutionOwnerBadge', 'SMEID', 'LOBNAME', 'Technologyname',\n",
       "       'Fiscal Year', 'Fiscal Quarter', 'Fiscal Week', 'ContractRevenue',\n",
       "       'LineItemRevenue', 'deal_complexity'],\n",
       "      dtype='object')"
      ]
     },
     "execution_count": 41,
     "metadata": {},
     "output_type": "execute_result"
    }
   ],
   "source": [
    "df.columns"
   ]
  },
  {
   "cell_type": "code",
   "execution_count": 42,
   "metadata": {},
   "outputs": [],
   "source": [
    "cat_vars = ['BookingSystemName', 'OpportunityTypeValue', 'CustomerNumber', 'CountryValue', 'TechnologySolutionOwnerBadge', 'SMEID', 'LOBNAME', 'Technologyname', 'Fiscal Year', 'Fiscal Quarter', 'Fiscal Week', 'dealstatusvalue']"
   ]
  },
  {
   "cell_type": "code",
   "execution_count": 43,
   "metadata": {},
   "outputs": [
    {
     "name": "stdout",
     "output_type": "stream",
     "text": [
      "(8392, 456)\n"
     ]
    }
   ],
   "source": [
    "df = pd.get_dummies(data=df, columns=cat_vars)\n",
    "print(df.shape)"
   ]
  },
  {
   "cell_type": "code",
   "execution_count": 44,
   "metadata": {},
   "outputs": [
    {
     "data": {
      "text/html": [
       "<div>\n",
       "<style scoped>\n",
       "    .dataframe tbody tr th:only-of-type {\n",
       "        vertical-align: middle;\n",
       "    }\n",
       "\n",
       "    .dataframe tbody tr th {\n",
       "        vertical-align: top;\n",
       "    }\n",
       "\n",
       "    .dataframe thead th {\n",
       "        text-align: right;\n",
       "    }\n",
       "</style>\n",
       "<table border=\"1\" class=\"dataframe\">\n",
       "  <thead>\n",
       "    <tr style=\"text-align: right;\">\n",
       "      <th></th>\n",
       "      <th>Assets</th>\n",
       "      <th>IsPrimary</th>\n",
       "      <th>ContractRevenue</th>\n",
       "      <th>LineItemRevenue</th>\n",
       "      <th>deal_complexity</th>\n",
       "      <th>BookingSystemName_DELL (DSA, Gii)</th>\n",
       "      <th>BookingSystemName_Dell (DSA,Gii)</th>\n",
       "      <th>BookingSystemName_EMC (MyQuotes)</th>\n",
       "      <th>BookingSystemName_VCE (XACT)</th>\n",
       "      <th>OpportunityTypeValue_CSG Acq – Relationship</th>\n",
       "      <th>...</th>\n",
       "      <th>Fiscal Week_202044</th>\n",
       "      <th>Fiscal Week_202045</th>\n",
       "      <th>Fiscal Week_202046</th>\n",
       "      <th>Fiscal Week_202047</th>\n",
       "      <th>Fiscal Week_202048</th>\n",
       "      <th>Fiscal Week_202049</th>\n",
       "      <th>Fiscal Week_202050</th>\n",
       "      <th>Fiscal Week_202051</th>\n",
       "      <th>dealstatusvalue_Deliverable Provided</th>\n",
       "      <th>dealstatusvalue_Won</th>\n",
       "    </tr>\n",
       "  </thead>\n",
       "  <tbody>\n",
       "    <tr>\n",
       "      <th>0</th>\n",
       "      <td>503.862396</td>\n",
       "      <td>1</td>\n",
       "      <td>1295.00</td>\n",
       "      <td>1295.00</td>\n",
       "      <td>2. Medium</td>\n",
       "      <td>1</td>\n",
       "      <td>0</td>\n",
       "      <td>0</td>\n",
       "      <td>0</td>\n",
       "      <td>0</td>\n",
       "      <td>...</td>\n",
       "      <td>0</td>\n",
       "      <td>0</td>\n",
       "      <td>0</td>\n",
       "      <td>0</td>\n",
       "      <td>0</td>\n",
       "      <td>0</td>\n",
       "      <td>0</td>\n",
       "      <td>0</td>\n",
       "      <td>0</td>\n",
       "      <td>1</td>\n",
       "    </tr>\n",
       "    <tr>\n",
       "      <th>1</th>\n",
       "      <td>503.862396</td>\n",
       "      <td>0</td>\n",
       "      <td>263060.26</td>\n",
       "      <td>7964.80</td>\n",
       "      <td>2. Medium</td>\n",
       "      <td>1</td>\n",
       "      <td>0</td>\n",
       "      <td>0</td>\n",
       "      <td>0</td>\n",
       "      <td>0</td>\n",
       "      <td>...</td>\n",
       "      <td>0</td>\n",
       "      <td>0</td>\n",
       "      <td>0</td>\n",
       "      <td>0</td>\n",
       "      <td>0</td>\n",
       "      <td>0</td>\n",
       "      <td>0</td>\n",
       "      <td>0</td>\n",
       "      <td>1</td>\n",
       "      <td>0</td>\n",
       "    </tr>\n",
       "    <tr>\n",
       "      <th>2</th>\n",
       "      <td>503.862396</td>\n",
       "      <td>1</td>\n",
       "      <td>263060.26</td>\n",
       "      <td>255095.46</td>\n",
       "      <td>2. Medium</td>\n",
       "      <td>1</td>\n",
       "      <td>0</td>\n",
       "      <td>0</td>\n",
       "      <td>0</td>\n",
       "      <td>0</td>\n",
       "      <td>...</td>\n",
       "      <td>0</td>\n",
       "      <td>0</td>\n",
       "      <td>0</td>\n",
       "      <td>0</td>\n",
       "      <td>0</td>\n",
       "      <td>0</td>\n",
       "      <td>0</td>\n",
       "      <td>0</td>\n",
       "      <td>1</td>\n",
       "      <td>0</td>\n",
       "    </tr>\n",
       "    <tr>\n",
       "      <th>3</th>\n",
       "      <td>0.000000</td>\n",
       "      <td>1</td>\n",
       "      <td>594.00</td>\n",
       "      <td>594.00</td>\n",
       "      <td>1. Low</td>\n",
       "      <td>1</td>\n",
       "      <td>0</td>\n",
       "      <td>0</td>\n",
       "      <td>0</td>\n",
       "      <td>0</td>\n",
       "      <td>...</td>\n",
       "      <td>0</td>\n",
       "      <td>0</td>\n",
       "      <td>0</td>\n",
       "      <td>0</td>\n",
       "      <td>0</td>\n",
       "      <td>0</td>\n",
       "      <td>0</td>\n",
       "      <td>0</td>\n",
       "      <td>0</td>\n",
       "      <td>1</td>\n",
       "    </tr>\n",
       "    <tr>\n",
       "      <th>4</th>\n",
       "      <td>9.000000</td>\n",
       "      <td>1</td>\n",
       "      <td>9849.46</td>\n",
       "      <td>9849.46</td>\n",
       "      <td>1. Low</td>\n",
       "      <td>1</td>\n",
       "      <td>0</td>\n",
       "      <td>0</td>\n",
       "      <td>0</td>\n",
       "      <td>0</td>\n",
       "      <td>...</td>\n",
       "      <td>0</td>\n",
       "      <td>0</td>\n",
       "      <td>0</td>\n",
       "      <td>0</td>\n",
       "      <td>0</td>\n",
       "      <td>0</td>\n",
       "      <td>0</td>\n",
       "      <td>0</td>\n",
       "      <td>0</td>\n",
       "      <td>1</td>\n",
       "    </tr>\n",
       "  </tbody>\n",
       "</table>\n",
       "<p>5 rows × 456 columns</p>\n",
       "</div>"
      ],
      "text/plain": [
       "       Assets  IsPrimary  ContractRevenue  LineItemRevenue deal_complexity  \\\n",
       "0  503.862396          1          1295.00          1295.00       2. Medium   \n",
       "1  503.862396          0        263060.26          7964.80       2. Medium   \n",
       "2  503.862396          1        263060.26        255095.46       2. Medium   \n",
       "3    0.000000          1           594.00           594.00          1. Low   \n",
       "4    9.000000          1          9849.46          9849.46          1. Low   \n",
       "\n",
       "   BookingSystemName_DELL (DSA, Gii)  BookingSystemName_Dell (DSA,Gii)  \\\n",
       "0                                  1                                 0   \n",
       "1                                  1                                 0   \n",
       "2                                  1                                 0   \n",
       "3                                  1                                 0   \n",
       "4                                  1                                 0   \n",
       "\n",
       "   BookingSystemName_EMC (MyQuotes)  BookingSystemName_VCE (XACT)  \\\n",
       "0                                 0                             0   \n",
       "1                                 0                             0   \n",
       "2                                 0                             0   \n",
       "3                                 0                             0   \n",
       "4                                 0                             0   \n",
       "\n",
       "   OpportunityTypeValue_CSG Acq – Relationship  ...  Fiscal Week_202044  \\\n",
       "0                                            0  ...                   0   \n",
       "1                                            0  ...                   0   \n",
       "2                                            0  ...                   0   \n",
       "3                                            0  ...                   0   \n",
       "4                                            0  ...                   0   \n",
       "\n",
       "   Fiscal Week_202045  Fiscal Week_202046  Fiscal Week_202047  \\\n",
       "0                   0                   0                   0   \n",
       "1                   0                   0                   0   \n",
       "2                   0                   0                   0   \n",
       "3                   0                   0                   0   \n",
       "4                   0                   0                   0   \n",
       "\n",
       "   Fiscal Week_202048  Fiscal Week_202049  Fiscal Week_202050  \\\n",
       "0                   0                   0                   0   \n",
       "1                   0                   0                   0   \n",
       "2                   0                   0                   0   \n",
       "3                   0                   0                   0   \n",
       "4                   0                   0                   0   \n",
       "\n",
       "   Fiscal Week_202051  dealstatusvalue_Deliverable Provided  \\\n",
       "0                   0                                     0   \n",
       "1                   0                                     1   \n",
       "2                   0                                     1   \n",
       "3                   0                                     0   \n",
       "4                   0                                     0   \n",
       "\n",
       "   dealstatusvalue_Won  \n",
       "0                    1  \n",
       "1                    0  \n",
       "2                    0  \n",
       "3                    1  \n",
       "4                    1  \n",
       "\n",
       "[5 rows x 456 columns]"
      ]
     },
     "execution_count": 44,
     "metadata": {},
     "output_type": "execute_result"
    }
   ],
   "source": [
    "df.head()"
   ]
  },
  {
   "cell_type": "markdown",
   "metadata": {},
   "source": [
    "#### Run Model"
   ]
  },
  {
   "cell_type": "code",
   "execution_count": 50,
   "metadata": {},
   "outputs": [],
   "source": [
    "#Split data into train and test sets\n",
    "X = df.drop(['deal_complexity'],axis=1)\n",
    "Y = df['deal_complexity']\n",
    "\n",
    "X_train, X_test, y_train, y_test = train_test_split(X,Y,test_size = 0.20, random_state=1)"
   ]
  },
  {
   "cell_type": "code",
   "execution_count": 51,
   "metadata": {},
   "outputs": [
    {
     "name": "stdout",
     "output_type": "stream",
     "text": [
      "Accuracy with model:  0.680762358546754\n"
     ]
    }
   ],
   "source": [
    "model = RandomForestClassifier(random_state=1, n_estimators = 10)\n",
    "model.fit(X_train, y_train)\n",
    "y_pred = model.predict(X_test)\n",
    "print(\"Accuracy with model: \", model.score(X_test, y_test))"
   ]
  },
  {
   "cell_type": "code",
   "execution_count": 52,
   "metadata": {},
   "outputs": [
    {
     "name": "stdout",
     "output_type": "stream",
     "text": [
      "Accuracy of model with some tuning:  0.7153067301965456 {'max_depth': 32, 'n_estimators': 500}\n"
     ]
    }
   ],
   "source": [
    "#Perform some tuning on RF model\n",
    "max_depth = [4, 8, 32, 64] #depth of each tree in forest\n",
    "n_estimators = [200, 500] #number of trees in the forest\n",
    "\n",
    "param_grid = dict(max_depth = max_depth, n_estimators = n_estimators)\n",
    "model = RandomForestClassifier(random_state=1)\n",
    "grid = GridSearchCV(estimator = model, param_grid = param_grid, cv = 5, n_jobs=-1)\n",
    "grid_result = grid.fit(X_train, y_train)\n",
    "print(\"Accuracy of model with some tuning: \", grid.score(X_test, y_test), grid_result.best_params_)"
   ]
  },
  {
   "cell_type": "code",
   "execution_count": 53,
   "metadata": {},
   "outputs": [
    {
     "data": {
      "image/png": "[encoded data removed]",
      "text/plain": [
       "<Figure size 432x288 with 1 Axes>"
      ]
     },
     "metadata": {
      "needs_background": "light"
     },
     "output_type": "display_data"
    }
   ],
   "source": [
    "#See feature importance of best model\n",
    "model = RandomForestClassifier(max_depth = 32, n_estimators = 500, random_state=1)\n",
    "model.fit(X_train, y_train)\n",
    "\n",
    "feat_importances = pd.Series(model.feature_importances_, index=X_train.columns)\n",
    "feat_importances.nlargest(20).sort_values().plot(kind='barh')\n",
    "\n",
    "plt.title('Most Important Features in Predicting Topic Group (RF Model)')\n",
    "plt.tight_layout()\n",
    "plt.show()"
   ]
  },
  {
   "cell_type": "code",
   "execution_count": 17,
   "metadata": {},
   "outputs": [
    {
     "name": "stdout",
     "output_type": "stream",
     "text": [
      "Accuracy with model:  0.6825491363907088\n"
     ]
    }
   ],
   "source": [
    "# from numpy import loadtxt\n",
    "# from xgboost import XGBClassifier\n",
    "\n",
    "# model = XGBClassifier()\n",
    "# model.fit(X_train, y_train)\n",
    "# y_pred = model.predict(X_test)\n",
    "# print(\"Accuracy with model: \", model.score(X_test, y_test))"
   ]
  },
  {
   "cell_type": "code",
   "execution_count": 54,
   "metadata": {},
   "outputs": [
    {
     "data": {
      "text/plain": [
       "array([[714, 107,  40],\n",
       "       [110, 316,  88],\n",
       "       [ 46, 145, 113]], dtype=int64)"
      ]
     },
     "execution_count": 54,
     "metadata": {},
     "output_type": "execute_result"
    }
   ],
   "source": [
    "from sklearn.metrics import confusion_matrix\n",
    "confusion_matrix(y_test, y_pred)"
   ]
  }
 ],
 "metadata": {
  "kernelspec": {
   "display_name": "Python 3",
   "language": "python",
   "name": "python3"
  },
  "language_info": {
   "codemirror_mode": {
    "name": "ipython",
    "version": 3
   },
   "file_extension": ".py",
   "mimetype": "text/x-python",
   "name": "python",
   "nbconvert_exporter": "python",
   "pygments_lexer": "ipython3",
   "version": "3.7.3"
  }
 },
 "nbformat": 4,
 "nbformat_minor": 2
}
