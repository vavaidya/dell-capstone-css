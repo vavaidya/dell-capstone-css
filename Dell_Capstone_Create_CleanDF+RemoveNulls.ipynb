{
 "cells": [
  {
   "cell_type": "code",
   "execution_count": 40,
   "metadata": {},
   "outputs": [],
   "source": [
    "import pandas as pd\n",
    "import numpy as np\n",
    "import missingno as msno\n",
    "import datetime as dt\n",
    "import matplotlib.pyplot as plt"
   ]
  },
  {
   "cell_type": "code",
   "execution_count": 41,
   "metadata": {},
   "outputs": [
    {
     "name": "stderr",
     "output_type": "stream",
     "text": [
      "C:\\Users\\geogh\\Anaconda3\\lib\\site-packages\\IPython\\core\\interactiveshell.py:3049: DtypeWarning: Columns (10) have mixed types. Specify dtype option on import or set low_memory=False.\n",
      "  interactivity=interactivity, compiler=compiler, result=result)\n"
     ]
    }
   ],
   "source": [
    "df = pd.read_csv('DataExtract_v2.csv') #read in CSV file provided"
   ]
  },
  {
   "cell_type": "markdown",
   "metadata": {},
   "source": [
    "# DROP COLUMNS"
   ]
  },
  {
   "cell_type": "code",
   "execution_count": 42,
   "metadata": {},
   "outputs": [
    {
     "data": {
      "text/plain": [
       "Index(['MyDealId', 'SfdcDealId', 'OpportunityNumber', 'BookingSystemName',\n",
       "       'Assets', 'IsPrimary', 'segmentvalue', 'OpportunityTypeValue', 'DealId',\n",
       "       'SFDCSUPPORTREQUESTID', 'CustomerNumber', 'dealstatusvalue',\n",
       "       'RegionValue', 'CountryValue', 'OwnerID',\n",
       "       'TechnologySolutionOwnerBadge', 'SMEID', 'LOBNAME', 'Technologyname',\n",
       "       'Fiscal Year', 'Fiscal Quarter', 'Fiscal Week', 'IntakeDate',\n",
       "       'AssignedDate', 'FirstDeliverableProvidedDate',\n",
       "       'FinalDeliverableProvidedDate', 'ContractDecisionDate',\n",
       "       'EstimatedAwardDate', 'EstimatedDeliveryDate', 'RespondedToSales',\n",
       "       'SfdcDeliverableDueDate', 'ContractRevenue', 'LineItemRevenue',\n",
       "       'dealtechnologytags'],\n",
       "      dtype='object')"
      ]
     },
     "execution_count": 42,
     "metadata": {},
     "output_type": "execute_result"
    }
   ],
   "source": [
    "df.columns"
   ]
  },
  {
   "cell_type": "code",
   "execution_count": 43,
   "metadata": {},
   "outputs": [],
   "source": [
    "df = df[df['RegionValue'] == \"AMER\"]"
   ]
  },
  {
   "cell_type": "code",
   "execution_count": 44,
   "metadata": {},
   "outputs": [],
   "source": [
    "df = df.drop(columns=['SfdcDealId','DealId','SFDCSUPPORTREQUESTID','OpportunityNumber','segmentvalue','ContractDecisionDate',\n",
    "       'EstimatedAwardDate', 'EstimatedDeliveryDate','SfdcDeliverableDueDate'])"
   ]
  },
  {
   "cell_type": "code",
   "execution_count": 45,
   "metadata": {},
   "outputs": [],
   "source": [
    "df = df[df['dealstatusvalue'] != 'Lost']"
   ]
  },
  {
   "cell_type": "code",
   "execution_count": 46,
   "metadata": {},
   "outputs": [],
   "source": [
    "df = df[df['dealstatusvalue'] != 'Cancelled']"
   ]
  },
  {
   "cell_type": "code",
   "execution_count": 47,
   "metadata": {},
   "outputs": [],
   "source": [
    "df = df[df['dealstatusvalue'] != 'No Opportunity']"
   ]
  },
  {
   "cell_type": "code",
   "execution_count": 48,
   "metadata": {},
   "outputs": [],
   "source": [
    "df = df[df['dealstatusvalue'] != 'Inactive']"
   ]
  },
  {
   "cell_type": "code",
   "execution_count": 49,
   "metadata": {},
   "outputs": [],
   "source": [
    "df = df[df['dealstatusvalue'] != 'Solutioning']"
   ]
  },
  {
   "cell_type": "markdown",
   "metadata": {},
   "source": [
    "## Null Management"
   ]
  },
  {
   "cell_type": "code",
   "execution_count": 50,
   "metadata": {},
   "outputs": [
    {
     "data": {
      "text/html": [
       "<div>\n",
       "<style scoped>\n",
       "    .dataframe tbody tr th:only-of-type {\n",
       "        vertical-align: middle;\n",
       "    }\n",
       "\n",
       "    .dataframe tbody tr th {\n",
       "        vertical-align: top;\n",
       "    }\n",
       "\n",
       "    .dataframe thead th {\n",
       "        text-align: right;\n",
       "    }\n",
       "</style>\n",
       "<table border=\"1\" class=\"dataframe\">\n",
       "  <thead>\n",
       "    <tr style=\"text-align: right;\">\n",
       "      <th></th>\n",
       "      <th>MyDealId</th>\n",
       "      <th>Assets</th>\n",
       "      <th>IsPrimary</th>\n",
       "      <th>OwnerID</th>\n",
       "      <th>TechnologySolutionOwnerBadge</th>\n",
       "      <th>SMEID</th>\n",
       "      <th>Fiscal Year</th>\n",
       "      <th>Fiscal Week</th>\n",
       "      <th>ContractRevenue</th>\n",
       "      <th>LineItemRevenue</th>\n",
       "    </tr>\n",
       "  </thead>\n",
       "  <tbody>\n",
       "    <tr>\n",
       "      <th>MyDealId</th>\n",
       "      <td>1.000000</td>\n",
       "      <td>0.125970</td>\n",
       "      <td>0.017221</td>\n",
       "      <td>0.078193</td>\n",
       "      <td>0.105112</td>\n",
       "      <td>0.082744</td>\n",
       "      <td>0.879927</td>\n",
       "      <td>0.962156</td>\n",
       "      <td>0.035753</td>\n",
       "      <td>0.026860</td>\n",
       "    </tr>\n",
       "    <tr>\n",
       "      <th>Assets</th>\n",
       "      <td>0.125970</td>\n",
       "      <td>1.000000</td>\n",
       "      <td>-0.004810</td>\n",
       "      <td>-0.132155</td>\n",
       "      <td>-0.131199</td>\n",
       "      <td>-0.047573</td>\n",
       "      <td>0.130171</td>\n",
       "      <td>0.134018</td>\n",
       "      <td>0.087424</td>\n",
       "      <td>0.163301</td>\n",
       "    </tr>\n",
       "    <tr>\n",
       "      <th>IsPrimary</th>\n",
       "      <td>0.017221</td>\n",
       "      <td>-0.004810</td>\n",
       "      <td>1.000000</td>\n",
       "      <td>0.149906</td>\n",
       "      <td>0.136235</td>\n",
       "      <td>-0.029523</td>\n",
       "      <td>0.043340</td>\n",
       "      <td>0.048587</td>\n",
       "      <td>-0.174115</td>\n",
       "      <td>-0.028459</td>\n",
       "    </tr>\n",
       "    <tr>\n",
       "      <th>OwnerID</th>\n",
       "      <td>0.078193</td>\n",
       "      <td>-0.132155</td>\n",
       "      <td>0.149906</td>\n",
       "      <td>1.000000</td>\n",
       "      <td>0.988419</td>\n",
       "      <td>0.871642</td>\n",
       "      <td>0.053177</td>\n",
       "      <td>0.080565</td>\n",
       "      <td>0.012360</td>\n",
       "      <td>-0.001289</td>\n",
       "    </tr>\n",
       "    <tr>\n",
       "      <th>TechnologySolutionOwnerBadge</th>\n",
       "      <td>0.105112</td>\n",
       "      <td>-0.131199</td>\n",
       "      <td>0.136235</td>\n",
       "      <td>0.988419</td>\n",
       "      <td>1.000000</td>\n",
       "      <td>0.876441</td>\n",
       "      <td>0.075942</td>\n",
       "      <td>0.105967</td>\n",
       "      <td>0.033538</td>\n",
       "      <td>0.013484</td>\n",
       "    </tr>\n",
       "    <tr>\n",
       "      <th>SMEID</th>\n",
       "      <td>0.082744</td>\n",
       "      <td>-0.047573</td>\n",
       "      <td>-0.029523</td>\n",
       "      <td>0.871642</td>\n",
       "      <td>0.876441</td>\n",
       "      <td>1.000000</td>\n",
       "      <td>0.059259</td>\n",
       "      <td>0.072987</td>\n",
       "      <td>0.059286</td>\n",
       "      <td>0.029245</td>\n",
       "    </tr>\n",
       "    <tr>\n",
       "      <th>Fiscal Year</th>\n",
       "      <td>0.879927</td>\n",
       "      <td>0.130171</td>\n",
       "      <td>0.043340</td>\n",
       "      <td>0.053177</td>\n",
       "      <td>0.075942</td>\n",
       "      <td>0.059259</td>\n",
       "      <td>1.000000</td>\n",
       "      <td>0.968715</td>\n",
       "      <td>-0.012627</td>\n",
       "      <td>-0.004808</td>\n",
       "    </tr>\n",
       "    <tr>\n",
       "      <th>Fiscal Week</th>\n",
       "      <td>0.962156</td>\n",
       "      <td>0.134018</td>\n",
       "      <td>0.048587</td>\n",
       "      <td>0.080565</td>\n",
       "      <td>0.105967</td>\n",
       "      <td>0.072987</td>\n",
       "      <td>0.968715</td>\n",
       "      <td>1.000000</td>\n",
       "      <td>0.009179</td>\n",
       "      <td>0.009261</td>\n",
       "    </tr>\n",
       "    <tr>\n",
       "      <th>ContractRevenue</th>\n",
       "      <td>0.035753</td>\n",
       "      <td>0.087424</td>\n",
       "      <td>-0.174115</td>\n",
       "      <td>0.012360</td>\n",
       "      <td>0.033538</td>\n",
       "      <td>0.059286</td>\n",
       "      <td>-0.012627</td>\n",
       "      <td>0.009179</td>\n",
       "      <td>1.000000</td>\n",
       "      <td>0.663556</td>\n",
       "    </tr>\n",
       "    <tr>\n",
       "      <th>LineItemRevenue</th>\n",
       "      <td>0.026860</td>\n",
       "      <td>0.163301</td>\n",
       "      <td>-0.028459</td>\n",
       "      <td>-0.001289</td>\n",
       "      <td>0.013484</td>\n",
       "      <td>0.029245</td>\n",
       "      <td>-0.004808</td>\n",
       "      <td>0.009261</td>\n",
       "      <td>0.663556</td>\n",
       "      <td>1.000000</td>\n",
       "    </tr>\n",
       "  </tbody>\n",
       "</table>\n",
       "</div>"
      ],
      "text/plain": [
       "                              MyDealId    Assets  IsPrimary   OwnerID  \\\n",
       "MyDealId                      1.000000  0.125970   0.017221  0.078193   \n",
       "Assets                        0.125970  1.000000  -0.004810 -0.132155   \n",
       "IsPrimary                     0.017221 -0.004810   1.000000  0.149906   \n",
       "OwnerID                       0.078193 -0.132155   0.149906  1.000000   \n",
       "TechnologySolutionOwnerBadge  0.105112 -0.131199   0.136235  0.988419   \n",
       "SMEID                         0.082744 -0.047573  -0.029523  0.871642   \n",
       "Fiscal Year                   0.879927  0.130171   0.043340  0.053177   \n",
       "Fiscal Week                   0.962156  0.134018   0.048587  0.080565   \n",
       "ContractRevenue               0.035753  0.087424  -0.174115  0.012360   \n",
       "LineItemRevenue               0.026860  0.163301  -0.028459 -0.001289   \n",
       "\n",
       "                              TechnologySolutionOwnerBadge     SMEID  \\\n",
       "MyDealId                                          0.105112  0.082744   \n",
       "Assets                                           -0.131199 -0.047573   \n",
       "IsPrimary                                         0.136235 -0.029523   \n",
       "OwnerID                                           0.988419  0.871642   \n",
       "TechnologySolutionOwnerBadge                      1.000000  0.876441   \n",
       "SMEID                                             0.876441  1.000000   \n",
       "Fiscal Year                                       0.075942  0.059259   \n",
       "Fiscal Week                                       0.105967  0.072987   \n",
       "ContractRevenue                                   0.033538  0.059286   \n",
       "LineItemRevenue                                   0.013484  0.029245   \n",
       "\n",
       "                              Fiscal Year  Fiscal Week  ContractRevenue  \\\n",
       "MyDealId                         0.879927     0.962156         0.035753   \n",
       "Assets                           0.130171     0.134018         0.087424   \n",
       "IsPrimary                        0.043340     0.048587        -0.174115   \n",
       "OwnerID                          0.053177     0.080565         0.012360   \n",
       "TechnologySolutionOwnerBadge     0.075942     0.105967         0.033538   \n",
       "SMEID                            0.059259     0.072987         0.059286   \n",
       "Fiscal Year                      1.000000     0.968715        -0.012627   \n",
       "Fiscal Week                      0.968715     1.000000         0.009179   \n",
       "ContractRevenue                 -0.012627     0.009179         1.000000   \n",
       "LineItemRevenue                 -0.004808     0.009261         0.663556   \n",
       "\n",
       "                              LineItemRevenue  \n",
       "MyDealId                             0.026860  \n",
       "Assets                               0.163301  \n",
       "IsPrimary                           -0.028459  \n",
       "OwnerID                             -0.001289  \n",
       "TechnologySolutionOwnerBadge         0.013484  \n",
       "SMEID                                0.029245  \n",
       "Fiscal Year                         -0.004808  \n",
       "Fiscal Week                          0.009261  \n",
       "ContractRevenue                      0.663556  \n",
       "LineItemRevenue                      1.000000  "
      ]
     },
     "execution_count": 50,
     "metadata": {},
     "output_type": "execute_result"
    }
   ],
   "source": [
    "#correlation between columns\n",
    "df.corr()"
   ]
  },
  {
   "cell_type": "code",
   "execution_count": 51,
   "metadata": {},
   "outputs": [
    {
     "data": {
      "text/plain": [
       "Text(0.5, 1.0, 'Correlations of Missing Values Only')"
      ]
     },
     "execution_count": 51,
     "metadata": {},
     "output_type": "execute_result"
    },
    {
     "data": {
      "text/plain": [
       "<Figure size 432x288 with 0 Axes>"
      ]
     },
     "metadata": {},
     "output_type": "display_data"
    },
    {
     "data": {
      "image/png": "[encoded data removed]",
      "text/plain": [
       "<Figure size 1440x864 with 2 Axes>"
      ]
     },
     "metadata": {
      "needs_background": "light"
     },
     "output_type": "display_data"
    }
   ],
   "source": [
    "#visualize patterns of missingness\n",
    "plt.figure()\n",
    "msno.heatmap(df)\n",
    "plt.title('Correlations of Missing Values Only')"
   ]
  },
  {
   "cell_type": "markdown",
   "metadata": {},
   "source": [
    "#### BookingSystemName"
   ]
  },
  {
   "cell_type": "code",
   "execution_count": 52,
   "metadata": {},
   "outputs": [
    {
     "data": {
      "text/plain": [
       "4503"
      ]
     },
     "execution_count": 52,
     "metadata": {},
     "output_type": "execute_result"
    }
   ],
   "source": [
    "df['BookingSystemName'].isna().sum()"
   ]
  },
  {
   "cell_type": "code",
   "execution_count": 53,
   "metadata": {},
   "outputs": [],
   "source": [
    "#BookingSystemName - Use most common occuring value\n",
    "mask = df['BookingSystemName'].isna()\n",
    "most_common = df['BookingSystemName'].value_counts().index[0]\n",
    "df.loc[mask,'BookingSystemName'] = most_common"
   ]
  },
  {
   "cell_type": "markdown",
   "metadata": {},
   "source": [
    "#### Assets missing values"
   ]
  },
  {
   "cell_type": "code",
   "execution_count": 54,
   "metadata": {},
   "outputs": [
    {
     "data": {
      "text/plain": [
       "3486"
      ]
     },
     "execution_count": 54,
     "metadata": {},
     "output_type": "execute_result"
    }
   ],
   "source": [
    "df['Assets'].isna().sum()"
   ]
  },
  {
   "cell_type": "code",
   "execution_count": 55,
   "metadata": {},
   "outputs": [],
   "source": [
    "#Assets - APPROACH TBC, using average as a place holder\n",
    "mask = df['Assets'].isna()\n",
    "average_nona = df['Assets'][-mask].mean()\n",
    "df.loc[mask,'Assets'] = average_nona"
   ]
  },
  {
   "cell_type": "markdown",
   "metadata": {},
   "source": [
    "#### OpportunityTypeValue"
   ]
  },
  {
   "cell_type": "code",
   "execution_count": 56,
   "metadata": {},
   "outputs": [
    {
     "data": {
      "text/plain": [
       "319"
      ]
     },
     "execution_count": 56,
     "metadata": {},
     "output_type": "execute_result"
    }
   ],
   "source": [
    "df['OpportunityTypeValue'].isna().sum()"
   ]
  },
  {
   "cell_type": "code",
   "execution_count": 57,
   "metadata": {},
   "outputs": [],
   "source": [
    "#OpportunityTypeValue - use the most common value\n",
    "mask = df['OpportunityTypeValue'].isna()\n",
    "most_common = df['OpportunityTypeValue'].value_counts().index[0]\n",
    "df.loc[mask,'OpportunityTypeValue'] = most_common"
   ]
  },
  {
   "cell_type": "markdown",
   "metadata": {},
   "source": [
    "#### CustomerNumber"
   ]
  },
  {
   "cell_type": "code",
   "execution_count": 58,
   "metadata": {},
   "outputs": [
    {
     "data": {
      "text/plain": [
       "4592"
      ]
     },
     "execution_count": 58,
     "metadata": {},
     "output_type": "execute_result"
    }
   ],
   "source": [
    "df['CustomerNumber'].isna().sum()"
   ]
  },
  {
   "cell_type": "code",
   "execution_count": 59,
   "metadata": {},
   "outputs": [],
   "source": [
    "#CustomerNumber - if customer number appears less than 5 times, bucket into unique category, use CustomerNumber otherwise\n",
    "cust_counts = df['CustomerNumber'].value_counts()\n",
    "cust_list = cust_counts[cust_counts >= 5].index.tolist()\n",
    "df['CustomerNumber'] = np.where(df['CustomerNumber'].isin(cust_list),df['CustomerNumber'],0)\n",
    "df['CustomerNumber'] = df['CustomerNumber'].astype(object)"
   ]
  },
  {
   "cell_type": "markdown",
   "metadata": {},
   "source": [
    "#### Dealstatusvalue"
   ]
  },
  {
   "cell_type": "code",
   "execution_count": 60,
   "metadata": {},
   "outputs": [
    {
     "data": {
      "text/plain": [
       "2"
      ]
     },
     "execution_count": 60,
     "metadata": {},
     "output_type": "execute_result"
    }
   ],
   "source": [
    "df['dealstatusvalue'].isna().sum()"
   ]
  },
  {
   "cell_type": "code",
   "execution_count": 61,
   "metadata": {},
   "outputs": [],
   "source": [
    "#Dealstatusvalue - change to Won\n",
    "mask = df['dealstatusvalue'].isna()\n",
    "df.loc[mask,'dealstatusvalue'] = \"Won\""
   ]
  },
  {
   "cell_type": "markdown",
   "metadata": {},
   "source": [
    "#### TechnologySolutionOwnerBadge"
   ]
  },
  {
   "cell_type": "code",
   "execution_count": 62,
   "metadata": {},
   "outputs": [
    {
     "data": {
      "text/plain": [
       "128"
      ]
     },
     "execution_count": 62,
     "metadata": {},
     "output_type": "execute_result"
    }
   ],
   "source": [
    "df['TechnologySolutionOwnerBadge'].isna().sum()"
   ]
  },
  {
   "cell_type": "code",
   "execution_count": 63,
   "metadata": {},
   "outputs": [],
   "source": [
    "#TechnologySolutionOwnerBadge\n",
    "mask = df['TechnologySolutionOwnerBadge'].isna()\n",
    "df['TechnologySolutionOwnerBadge'] = np.where(mask, df['OwnerID'], df['TechnologySolutionOwnerBadge'])"
   ]
  },
  {
   "cell_type": "markdown",
   "metadata": {},
   "source": [
    "#### SMEID"
   ]
  },
  {
   "cell_type": "code",
   "execution_count": 64,
   "metadata": {},
   "outputs": [
    {
     "data": {
      "text/plain": [
       "2303"
      ]
     },
     "execution_count": 64,
     "metadata": {},
     "output_type": "execute_result"
    }
   ],
   "source": [
    "df['SMEID'].isna().sum()"
   ]
  },
  {
   "cell_type": "code",
   "execution_count": 65,
   "metadata": {},
   "outputs": [],
   "source": [
    "#SMEID - if null or equal to the TechnologySolutionOwnerBadge, code 0, otherwise 1\n",
    "df['SMEID'] = np.where(df['SMEID'].isnull(),0,df['SMEID'])\n",
    "df['SMEID'] = np.where(df['SMEID'] == df['OwnerID'],0,1)"
   ]
  },
  {
   "cell_type": "markdown",
   "metadata": {},
   "source": [
    "#### Assigned Date"
   ]
  },
  {
   "cell_type": "code",
   "execution_count": 66,
   "metadata": {},
   "outputs": [
    {
     "data": {
      "text/plain": [
       "6"
      ]
     },
     "execution_count": 66,
     "metadata": {},
     "output_type": "execute_result"
    }
   ],
   "source": [
    "df['AssignedDate'].isna().sum()"
   ]
  },
  {
   "cell_type": "code",
   "execution_count": 67,
   "metadata": {},
   "outputs": [],
   "source": [
    "#Assigned Date - Impute from Intake Date\n",
    "mask = df['AssignedDate'].isna()\n",
    "df['AssignedDate'] = np.where(mask, df['IntakeDate'], df['AssignedDate'])"
   ]
  },
  {
   "cell_type": "markdown",
   "metadata": {},
   "source": [
    "#### First Deliverable Provided"
   ]
  },
  {
   "cell_type": "code",
   "execution_count": 68,
   "metadata": {},
   "outputs": [
    {
     "data": {
      "text/plain": [
       "52"
      ]
     },
     "execution_count": 68,
     "metadata": {},
     "output_type": "execute_result"
    }
   ],
   "source": [
    "df['FirstDeliverableProvidedDate'].isna().sum()"
   ]
  },
  {
   "cell_type": "code",
   "execution_count": 69,
   "metadata": {},
   "outputs": [],
   "source": [
    "#First Deliverable Provided - impute final deliverable provided where available\n",
    "mask = df['FirstDeliverableProvidedDate'].isna()\n",
    "df['FirstDeliverableProvidedDate'] = np.where(mask, df['FinalDeliverableProvidedDate'], \n",
    "                                              df['FirstDeliverableProvidedDate'])\n",
    "#drop other rows\n",
    "df = df.dropna(axis=0, subset=['FirstDeliverableProvidedDate'])"
   ]
  },
  {
   "cell_type": "markdown",
   "metadata": {},
   "source": [
    "#### Contract Revenue"
   ]
  },
  {
   "cell_type": "code",
   "execution_count": 70,
   "metadata": {},
   "outputs": [
    {
     "data": {
      "text/plain": [
       "441"
      ]
     },
     "execution_count": 70,
     "metadata": {},
     "output_type": "execute_result"
    }
   ],
   "source": [
    "df['ContractRevenue'].isna().sum()"
   ]
  },
  {
   "cell_type": "code",
   "execution_count": 71,
   "metadata": {},
   "outputs": [],
   "source": [
    "#Impute from Line Item Revenue where available\n",
    "mask = df['ContractRevenue'].isna()\n",
    "df['ContractRevenue'] = np.where(mask, df['LineItemRevenue'], df['ContractRevenue'])\n",
    "\n",
    "#Fill rest with average of column\n",
    "mask = df['ContractRevenue'].isna()\n",
    "average_nona = df['ContractRevenue'][-mask].mean()\n",
    "df.loc[mask,'ContractRevenue'] = average_nona"
   ]
  },
  {
   "cell_type": "markdown",
   "metadata": {},
   "source": [
    "#### Line Item Revenue"
   ]
  },
  {
   "cell_type": "code",
   "execution_count": 72,
   "metadata": {},
   "outputs": [
    {
     "data": {
      "text/plain": [
       "328"
      ]
     },
     "execution_count": 72,
     "metadata": {},
     "output_type": "execute_result"
    }
   ],
   "source": [
    "df['LineItemRevenue'].isna().sum()"
   ]
  },
  {
   "cell_type": "code",
   "execution_count": 73,
   "metadata": {},
   "outputs": [],
   "source": [
    "#Impute from Contract Revenue where available\n",
    "mask = df['LineItemRevenue'].isna()\n",
    "df['LineItemRevenue'] = np.where(mask, df['ContractRevenue'], df['LineItemRevenue'])\n",
    "\n",
    "#Fill rest with average of column\n",
    "mask = df['LineItemRevenue'].isna()\n",
    "average_nona = df['LineItemRevenue'][-mask].mean()\n",
    "df.loc[mask,'LineItemRevenue'] = average_nona"
   ]
  },
  {
   "cell_type": "markdown",
   "metadata": {},
   "source": [
    "#### Drop Columns outside initial analysis"
   ]
  },
  {
   "cell_type": "code",
   "execution_count": 74,
   "metadata": {},
   "outputs": [],
   "source": [
    "#Drop columns outside initial analysis\n",
    "df = df.drop(columns=['FinalDeliverableProvidedDate', 'RespondedToSales','dealtechnologytags'])"
   ]
  },
  {
   "cell_type": "markdown",
   "metadata": {},
   "source": [
    "#### Inspect columns and expor"
   ]
  },
  {
   "cell_type": "code",
   "execution_count": 75,
   "metadata": {},
   "outputs": [
    {
     "data": {
      "text/plain": [
       "MyDealId                        0\n",
       "BookingSystemName               0\n",
       "Assets                          0\n",
       "IsPrimary                       0\n",
       "OpportunityTypeValue            0\n",
       "CustomerNumber                  0\n",
       "dealstatusvalue                 0\n",
       "RegionValue                     0\n",
       "CountryValue                    0\n",
       "OwnerID                         0\n",
       "TechnologySolutionOwnerBadge    0\n",
       "SMEID                           0\n",
       "LOBNAME                         0\n",
       "Technologyname                  0\n",
       "Fiscal Year                     0\n",
       "Fiscal Quarter                  0\n",
       "Fiscal Week                     0\n",
       "IntakeDate                      0\n",
       "AssignedDate                    0\n",
       "FirstDeliverableProvidedDate    0\n",
       "ContractRevenue                 0\n",
       "LineItemRevenue                 0\n",
       "dtype: int64"
      ]
     },
     "execution_count": 75,
     "metadata": {},
     "output_type": "execute_result"
    }
   ],
   "source": [
    "df.isna().sum()"
   ]
  },
  {
   "cell_type": "code",
   "execution_count": null,
   "metadata": {},
   "outputs": [],
   "source": [
    "pd.read_csv('DataExtract_v3.csv') #export CSV file provided"
   ]
  }
 ],
 "metadata": {
  "kernelspec": {
   "display_name": "Python 3",
   "language": "python",
   "name": "python3"
  },
  "language_info": {
   "codemirror_mode": {
    "name": "ipython",
    "version": 3
   },
   "file_extension": ".py",
   "mimetype": "text/x-python",
   "name": "python",
   "nbconvert_exporter": "python",
   "pygments_lexer": "ipython3",
   "version": "3.7.3"
  }
 },
 "nbformat": 4,
 "nbformat_minor": 2
}
